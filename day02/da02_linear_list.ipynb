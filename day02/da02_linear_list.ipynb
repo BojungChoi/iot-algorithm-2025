{
 "cells": [
  {
   "cell_type": "markdown",
   "metadata": {},
   "source": [
    "### 선형 리스트(Linear List)\n"
   ]
  },
  {
   "cell_type": "code",
   "execution_count": 89,
   "metadata": {},
   "outputs": [],
   "source": [
    "katok = ['다현', '정현', '쯔위', '사나', '지효']"
   ]
  },
  {
   "cell_type": "code",
   "execution_count": 90,
   "metadata": {},
   "outputs": [
    {
     "name": "stdout",
     "output_type": "stream",
     "text": [
      "2204603342768\n",
      "2204603345168\n",
      "2204603335952\n",
      "2204603342576\n",
      "2204603108592\n"
     ]
    }
   ],
   "source": [
    "print(id(katok[0]))\n",
    "print(id(katok[1]))\n",
    "print(id(katok[2]))\n",
    "print(id(katok[3]))\n",
    "print(id(katok[4]))"
   ]
  },
  {
   "cell_type": "code",
   "execution_count": 91,
   "metadata": {},
   "outputs": [
    {
     "data": {
      "text/plain": [
       "'쯔위'"
      ]
     },
     "execution_count": 91,
     "metadata": {},
     "output_type": "execute_result"
    }
   ],
   "source": [
    "katok[2]"
   ]
  },
  {
   "cell_type": "code",
   "execution_count": 92,
   "metadata": {},
   "outputs": [
    {
     "data": {
      "text/plain": [
       "'사나'"
      ]
     },
     "execution_count": 92,
     "metadata": {},
     "output_type": "execute_result"
    }
   ],
   "source": [
    "katok[3]"
   ]
  },
  {
   "cell_type": "markdown",
   "metadata": {},
   "source": [
    "#### 배열이라고 가정\n",
    "- 데이터 마지막에 추가하려면?\n",
    "    1. 배열에 마지막에 빈공간을 생성 .append(None)\n",
    "    2. 데이터를 추가"
   ]
  },
  {
   "cell_type": "code",
   "execution_count": 93,
   "metadata": {},
   "outputs": [
    {
     "data": {
      "text/plain": [
       "['다현', '정현', '쯔위', '사나', '지효', None]"
      ]
     },
     "execution_count": 93,
     "metadata": {},
     "output_type": "execute_result"
    }
   ],
   "source": [
    "katok.append(None)\n",
    "katok"
   ]
  },
  {
   "cell_type": "code",
   "execution_count": 94,
   "metadata": {},
   "outputs": [
    {
     "data": {
      "text/plain": [
       "['다현', '정현', '쯔위', '사나', '지효', '모모']"
      ]
     },
     "execution_count": 94,
     "metadata": {},
     "output_type": "execute_result"
    }
   ],
   "source": [
    "katok[len(katok) -1] = '모모'\n",
    "katok"
   ]
  },
  {
   "cell_type": "markdown",
   "metadata": {},
   "source": [
    "- 데이터를 중간에 추가하려면\n",
    "    1. 배열의 마지막에 빈공간을 추가\n",
    "    2. 데이터를 추가할 위치까지 이전 데이터를 뒤로 쉬프트\n",
    "    3. 중간에 빈 공간에 새 데이터를 추가\n",
    "- insert() 함수를 안쓰면 이렇게 구현을 해야함"
   ]
  },
  {
   "cell_type": "code",
   "execution_count": 95,
   "metadata": {},
   "outputs": [
    {
     "data": {
      "text/plain": [
       "['다현', '정현', '쯔위', '사나', '지효', '모모']"
      ]
     },
     "execution_count": 95,
     "metadata": {},
     "output_type": "execute_result"
    }
   ],
   "source": [
    "katok"
   ]
  },
  {
   "cell_type": "code",
   "execution_count": 96,
   "metadata": {},
   "outputs": [
    {
     "data": {
      "text/plain": [
       "['다현', '정현', '쯔위', '사나', '지효', '모모', None]"
      ]
     },
     "execution_count": 96,
     "metadata": {},
     "output_type": "execute_result"
    }
   ],
   "source": [
    "# 맨 마지막에 빈공간 생성\n",
    "katok.append(None)\n",
    "katok"
   ]
  },
  {
   "cell_type": "code",
   "execution_count": 97,
   "metadata": {},
   "outputs": [
    {
     "data": {
      "text/plain": [
       "['다현', '정현', '쯔위', '사나', '지효', None, '모모']"
      ]
     },
     "execution_count": 97,
     "metadata": {},
     "output_type": "execute_result"
    }
   ],
   "source": [
    "# 데이터를 뒤로 쉬프트()\n",
    "katok[6] = katok[5]\n",
    "katok[5] = None # 이작업을 안하면 5, 6번 인덱스가 같음. '모모'가 두개\n",
    "katok"
   ]
  },
  {
   "cell_type": "code",
   "execution_count": 98,
   "metadata": {},
   "outputs": [
    {
     "data": {
      "text/plain": [
       "['다현', '정현', '쯔위', '사나', None, '지효', '모모']"
      ]
     },
     "execution_count": 98,
     "metadata": {},
     "output_type": "execute_result"
    }
   ],
   "source": [
    "katok[5] = katok[4]\n",
    "katok[4] = None\n",
    "katok"
   ]
  },
  {
   "cell_type": "code",
   "execution_count": 99,
   "metadata": {},
   "outputs": [
    {
     "data": {
      "text/plain": [
       "['다현', '정현', '쯔위', None, '지효', '지효', '모모']"
      ]
     },
     "execution_count": 99,
     "metadata": {},
     "output_type": "execute_result"
    }
   ],
   "source": [
    "katok[4] = katok[5]\n",
    "katok[3] = None\n",
    "katok"
   ]
  },
  {
   "cell_type": "code",
   "execution_count": 100,
   "metadata": {},
   "outputs": [
    {
     "data": {
      "text/plain": [
       "['다현', '정현', '쯔위', '보정', '지효', '지효', '모모']"
      ]
     },
     "execution_count": 100,
     "metadata": {},
     "output_type": "execute_result"
    }
   ],
   "source": [
    "# 빈자리에 보정 추가\n",
    "katok[3] = '보정'\n",
    "katok"
   ]
  },
  {
   "cell_type": "markdown",
   "metadata": {},
   "source": [
    "- 데이터 삭제\n",
    "    1. 위치의 값을 None으로 변경\n",
    "    2. None이된 빈 위치에 오른쪽 데이터를 이동, 그자리는 None\n",
    "    3. 배열의 마지막이 None 될때까지 반복\n",
    "    4. del(array[index]) 삭제\n"
   ]
  },
  {
   "cell_type": "markdown",
   "metadata": {},
   "source": [
    "#### 선형리스트 일반 구현\n",
    "- [da_03_linear_list.py](./da02_linear_list.ipynb)로 구현"
   ]
  }
 ],
 "metadata": {
  "kernelspec": {
   "display_name": "Python 3",
   "language": "python",
   "name": "python3"
  },
  "language_info": {
   "codemirror_mode": {
    "name": "ipython",
    "version": 3
   },
   "file_extension": ".py",
   "mimetype": "text/x-python",
   "name": "python",
   "nbconvert_exporter": "python",
   "pygments_lexer": "ipython3",
   "version": "3.11.9"
  }
 },
 "nbformat": 4,
 "nbformat_minor": 2
}
