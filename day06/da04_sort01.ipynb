{
 "cells": [
  {
   "cell_type": "markdown",
   "metadata": {},
   "source": [
    "### 정렬 Sort\n",
    "\n",
    "<img src = \"https://upload.wikimedia.org/wikipedia/commons/thumb/8/8e/Merge_sort_animation.gif/220px-Merge_sort_animation.gif\" width = \"400\">\n",
    "\n",
    "\n",
    "- 여러 데이터를 작은 값부터 큰 순으로 or 큰 값부터 작은 순으로 순서에 맞에 정리는 것\n",
    "    - 오름차순(Ascending sort)\n",
    "    - 내림차순(Descending sort)\n",
    "\n",
    "<!-- 표만들때 :-- (왼쪽정렬) :--: (중앙정렬) --:(오른쪽정렬) -->\n",
    "|종류(정렬)|평균|최선|최악|\n",
    "|:--|:--:|:--:|:--:|\n",
    "|선택|$O(n^2)$|$O(n^2)$|$O(n^2)$|\n",
    "|삽입|$O(n^2)$|$O(n^2)$|$O(n^2)$|\n",
    "|버블|$O(n^2)$|$O(n^2)$|$O(n^2)$|\n",
    "|합병|$O(n log n)$|$O(n log n)$|$O(n log n)$|\n",
    "|퀵|$O(n log n)$|$O(n log n)$|$O(n^2)$|\n",
    "|힙|$O(n log n)$|$O(n log n)$|$O(n log n)$|\n",
    "|쉘|$O(n^{1.25})$|$O(n^{1.25})$|$O(n^{1.25})$|\n",
    "|기수|$O(dn)$|$O(dn)$|$O(dn)$|\n"
   ]
  },
  {
   "cell_type": "markdown",
   "metadata": {},
   "source": [
    "#### 선택정렬\n",
    "\n",
    "- 여러 데이터중 가장 작은 값을 뽑는 과정을 반복하여 정렬하는 방식"
   ]
  },
  {
   "cell_type": "code",
   "execution_count": 29,
   "metadata": {},
   "outputs": [],
   "source": [
    "def findMinIdx(ary):\n",
    "    minIdx = 0 # 맨 처음값을 최소라고 가정\n",
    "    for i in range(1, len(ary)):\n",
    "        if ary[minIdx] > ary[i]:\n",
    "            minIdx = i\n",
    "\n",
    "    return minIdx"
   ]
  },
  {
   "cell_type": "code",
   "execution_count": 30,
   "metadata": {},
   "outputs": [
    {
     "name": "stdout",
     "output_type": "stream",
     "text": [
      "최소값 인덱스 : 3\n",
      "최소값  : 2\n"
     ]
    }
   ],
   "source": [
    "testAry = [55, 88, 22, 2, 33, 77]\n",
    "minPos = findMinIdx(testAry)\n",
    "\n",
    "print(f'최소값 인덱스 : {minPos}')\n",
    "print(f'최소값  : {testAry[minPos]}')"
   ]
  },
  {
   "cell_type": "code",
   "execution_count": 31,
   "metadata": {},
   "outputs": [
    {
     "name": "stdout",
     "output_type": "stream",
     "text": [
      "정렬 전 --> [188, 162, 168, 120, 50, 150, 177, 105]\n",
      "정렬 후 --> [50, 105, 120, 150, 162, 168, 177, 188]\n"
     ]
    }
   ],
   "source": [
    "## 변수 선언\n",
    "# [('아빠', 188),('누나', 162), ....('동생', 105)]\n",
    "before = [188, 162, 168, 120, 50, 150, 177, 105]\n",
    "after = []\n",
    "\n",
    "## 메인코드\n",
    "print(f'정렬 전 --> {before}')\n",
    "\n",
    "for _ in range(len(before)): # 8번, 길이가 0이될때까지 계속\n",
    "    minPos = findMinIdx(before) \n",
    "    after.append(before[minPos])\n",
    "    del(before[minPos])\n",
    "\n",
    "print(f'정렬 후 --> {after}')"
   ]
  },
  {
   "cell_type": "markdown",
   "metadata": {},
   "source": [
    "#### 데이터 교환에서 가장 중요한 SWAP\n",
    "- 변수가 두개 있을 때 하나의 값을 다른 곳으로 할당하려면 임시변수가 필요\n",
    "\n",
    "    ```python\n",
    "    def swap(x, y):\n",
    "        temp = x\n",
    "        x = y\n",
    "        y = temp\n",
    "    ```"
   ]
  },
  {
   "cell_type": "markdown",
   "metadata": {},
   "source": [
    "- 변수 하나로 선택정렬"
   ]
  },
  {
   "cell_type": "code",
   "execution_count": 32,
   "metadata": {},
   "outputs": [
    {
     "name": "stdout",
     "output_type": "stream",
     "text": [
      "정렬전 [188, 162, 168, 120, 50, 150, 177, 105]\n",
      "[50, 162, 168, 120, 188, 150, 177, 105]\n",
      "[50, 105, 168, 120, 188, 150, 177, 162]\n",
      "[50, 105, 120, 168, 188, 150, 177, 162]\n",
      "[50, 105, 120, 150, 188, 168, 177, 162]\n",
      "[50, 105, 120, 150, 162, 168, 177, 188]\n",
      "[50, 105, 120, 150, 162, 168, 177, 188]\n",
      "[50, 105, 120, 150, 162, 168, 177, 188]\n",
      "정렬후 [50, 105, 120, 150, 162, 168, 177, 188]\n"
     ]
    }
   ],
   "source": [
    "def sortSelection(ary):\n",
    "    n = len(ary)\n",
    "    for i in range(0, n-1): # 0 ~ n-1 과 (188~177)\n",
    "        minIdx = i\n",
    "        for j in range(i+1, n): # i+1 ~ n (162 ~ 105) 까지 서로교차하며 비교\n",
    "            if ary[minIdx] > ary[j]:\n",
    "                minIdx = j\n",
    "                \n",
    "        tmp = ary[i]\n",
    "        ary[i] = ary[minIdx]\n",
    "        ary[minIdx] = tmp\n",
    "        print(ary)\n",
    "\n",
    "    return ary\n",
    "\n",
    "dataAry = [188, 162, 168, 120, 50, 150, 177, 105]\n",
    "\n",
    "print(f'정렬전 {dataAry}')\n",
    "dataAry = sortSelection(dataAry)\n",
    "print(f'정렬후 {dataAry}')\n"
   ]
  },
  {
   "cell_type": "markdown",
   "metadata": {},
   "source": [
    "### 삽입정렬\n",
    "- 기존 데이터 중에 자신의 위치를 찾아 데이터를 삽입하는 정렬방식"
   ]
  },
  {
   "cell_type": "markdown",
   "metadata": {},
   "source": [
    "- 삽입될 위치를 찾는 함수"
   ]
  },
  {
   "cell_type": "code",
   "execution_count": 33,
   "metadata": {},
   "outputs": [],
   "source": [
    "def findInsertIdx(ary,data):\n",
    "    findIdx = -1 # 배열에 인덱스 앞(인덱스 0 보다 앞을 의미 !!)\n",
    "    for i in range(0, len(ary)):\n",
    "        if ary[i] > data :\n",
    "            findIdx = i\n",
    "            break\n",
    "\n",
    "    if findIdx == -1 : # 큰값을 못찾음. 제일 마지막 위치\n",
    "        return len(ary) \n",
    "    else :\n",
    "        return findIdx"
   ]
  },
  {
   "cell_type": "code",
   "execution_count": 34,
   "metadata": {},
   "outputs": [
    {
     "name": "stdout",
     "output_type": "stream",
     "text": [
      "삽입위치 인덱스 -> 0\n"
     ]
    }
   ],
   "source": [
    "testAry = []\n",
    "print(f'삽입위치 인덱스 -> {findInsertIdx(testAry, 55)}')"
   ]
  },
  {
   "cell_type": "code",
   "execution_count": 35,
   "metadata": {},
   "outputs": [
    {
     "name": "stdout",
     "output_type": "stream",
     "text": [
      "삽입 위치 인덱스 -> 1\n"
     ]
    }
   ],
   "source": [
    "testAry = [33, 77, 88]\n",
    "print(f'삽입 위치 인덱스 -> {findInsertIdx(testAry, 55)}')"
   ]
  },
  {
   "cell_type": "code",
   "execution_count": 36,
   "metadata": {},
   "outputs": [
    {
     "name": "stdout",
     "output_type": "stream",
     "text": [
      "삽입 위치 인덱스 -> 2\n"
     ]
    }
   ],
   "source": [
    "testAry = [33, 35, 87, 77, 88]\n",
    "print(f'삽입 위치 인덱스 -> {findInsertIdx(testAry, 55)}')"
   ]
  },
  {
   "cell_type": "code",
   "execution_count": 37,
   "metadata": {},
   "outputs": [
    {
     "name": "stdout",
     "output_type": "stream",
     "text": [
      "정렬 전 -> [188, 162, 168, 120, 50, 150, 177, 105]\n",
      "정렬 중 ->[188]\n",
      "정렬 중 ->[162, 188]\n",
      "정렬 중 ->[162, 168, 188]\n",
      "정렬 중 ->[120, 162, 168, 188]\n",
      "정렬 중 ->[50, 120, 162, 168, 188]\n",
      "정렬 중 ->[50, 120, 150, 162, 168, 188]\n",
      "정렬 중 ->[50, 120, 150, 162, 168, 177, 188]\n",
      "정렬 중 ->[50, 105, 120, 150, 162, 168, 177, 188]\n",
      "정렬 후 -> [50, 105, 120, 150, 162, 168, 177, 188]\n"
     ]
    }
   ],
   "source": [
    "# 변수\n",
    "before = [188, 162, 168, 120, 50, 150, 177, 105]\n",
    "after = []\n",
    "\n",
    "\n",
    "# 메인코드\n",
    "print(f'정렬 전 -> {before}')\n",
    "for i in range(len(before)):\n",
    "    data = before[i]\n",
    "    insPos = findInsertIdx(after, data)\n",
    "    after.insert(insPos, data)\n",
    "    print(f'정렬 중 ->{after}')\n",
    "\n",
    "print(f'정렬 후 -> {after}')"
   ]
  },
  {
   "cell_type": "markdown",
   "metadata": {},
   "source": [
    "- 변수 하나로 삽입정렬"
   ]
  },
  {
   "cell_type": "code",
   "execution_count": 38,
   "metadata": {},
   "outputs": [
    {
     "name": "stdout",
     "output_type": "stream",
     "text": [
      "정렬 전 -> [188, 162, 168, 120, 50, 150, 177, 105]\n",
      "정렬중 --> [162, 188, 168, 120, 50, 150, 177, 105]\n",
      "정렬중 --> [162, 168, 188, 120, 50, 150, 177, 105]\n",
      "정렬중 --> [120, 162, 168, 188, 50, 150, 177, 105]\n",
      "정렬중 --> [50, 120, 162, 168, 188, 150, 177, 105]\n",
      "정렬중 --> [50, 120, 150, 162, 168, 188, 177, 105]\n",
      "정렬중 --> [50, 120, 150, 162, 168, 177, 188, 105]\n",
      "정렬중 --> [50, 105, 120, 150, 162, 168, 177, 188]\n",
      "정렬 후 -> [50, 105, 120, 150, 162, 168, 177, 188]\n"
     ]
    }
   ],
   "source": [
    "def sortInsertion(ary):\n",
    "    n = len(ary)\n",
    "    for end in range(1, n): # end -> 1.... n-1\n",
    "        for cur in range(end, 0, -1): # cur -> 거꾸로\n",
    "            if ary[cur - 1] > ary[cur]:\n",
    "                # tmp = ary[cur]\n",
    "                # ary[cur] = ary[cur - 1]\n",
    "                # ary[cur - 1] = tmp\n",
    "\n",
    "                # tmp 변수를 안만들고 바로 변경할 수 있는 로직(파이썬에만 존재!)\n",
    "                ary[cur - 1], ary[cur] = ary[cur], ary[cur - 1]           \n",
    "                 \n",
    "        print(f'정렬중 --> {ary}')\n",
    "    return ary\n",
    "\n",
    "dataAry = [188, 162, 168, 120, 50, 150, 177, 105]\n",
    "\n",
    "# 메인코드\n",
    "print(f'정렬 전 -> {dataAry}')\n",
    "dataAry = sortInsertion(dataAry)\n",
    "print(f'정렬 후 -> {dataAry}')\n"
   ]
  },
  {
   "cell_type": "markdown",
   "metadata": {},
   "source": [
    "#### 버블 정렬\n",
    "\n",
    "- 앞뒤 데이터를 비교해서 큰 값을 뒤로 보내면서 정렬하는 방식\n",
    "- 거품처럼 생겼다고해서 버블정렬"
   ]
  },
  {
   "cell_type": "code",
   "execution_count": 39,
   "metadata": {},
   "outputs": [
    {
     "name": "stdout",
     "output_type": "stream",
     "text": [
      "정렬 전 => [760, 986, 713, 661, 970, 576, 451, 489, 904, 735, 600, 530, 631, 549, 886, 999, 269, 99]\n",
      "정렬 중 => [760, 713, 661, 970, 576, 451, 489, 904, 735, 600, 530, 631, 549, 886, 986, 269, 99, 999]\n",
      "정렬 중 => [713, 661, 760, 576, 451, 489, 904, 735, 600, 530, 631, 549, 886, 970, 269, 99, 986, 999]\n",
      "정렬 중 => [661, 713, 576, 451, 489, 760, 735, 600, 530, 631, 549, 886, 904, 269, 99, 970, 986, 999]\n",
      "정렬 중 => [661, 576, 451, 489, 713, 735, 600, 530, 631, 549, 760, 886, 269, 99, 904, 970, 986, 999]\n",
      "정렬 중 => [576, 451, 489, 661, 713, 600, 530, 631, 549, 735, 760, 269, 99, 886, 904, 970, 986, 999]\n",
      "정렬 중 => [451, 489, 576, 661, 600, 530, 631, 549, 713, 735, 269, 99, 760, 886, 904, 970, 986, 999]\n",
      "정렬 중 => [451, 489, 576, 600, 530, 631, 549, 661, 713, 269, 99, 735, 760, 886, 904, 970, 986, 999]\n",
      "정렬 중 => [451, 489, 576, 530, 600, 549, 631, 661, 269, 99, 713, 735, 760, 886, 904, 970, 986, 999]\n",
      "정렬 중 => [451, 489, 530, 576, 549, 600, 631, 269, 99, 661, 713, 735, 760, 886, 904, 970, 986, 999]\n",
      "정렬 중 => [451, 489, 530, 549, 576, 600, 269, 99, 631, 661, 713, 735, 760, 886, 904, 970, 986, 999]\n",
      "정렬 중 => [451, 489, 530, 549, 576, 269, 99, 600, 631, 661, 713, 735, 760, 886, 904, 970, 986, 999]\n",
      "정렬 중 => [451, 489, 530, 549, 269, 99, 576, 600, 631, 661, 713, 735, 760, 886, 904, 970, 986, 999]\n",
      "정렬 중 => [451, 489, 530, 269, 99, 549, 576, 600, 631, 661, 713, 735, 760, 886, 904, 970, 986, 999]\n",
      "정렬 중 => [451, 489, 269, 99, 530, 549, 576, 600, 631, 661, 713, 735, 760, 886, 904, 970, 986, 999]\n",
      "정렬 중 => [451, 269, 99, 489, 530, 549, 576, 600, 631, 661, 713, 735, 760, 886, 904, 970, 986, 999]\n",
      "정렬 중 => [269, 99, 451, 489, 530, 549, 576, 600, 631, 661, 713, 735, 760, 886, 904, 970, 986, 999]\n",
      "정렬 중 => [99, 269, 451, 489, 530, 549, 576, 600, 631, 661, 713, 735, 760, 886, 904, 970, 986, 999]\n",
      "정렬 후 => [99, 269, 451, 489, 530, 549, 576, 600, 631, 661, 713, 735, 760, 886, 904, 970, 986, 999]\n"
     ]
    }
   ],
   "source": [
    "import random\n",
    "# 함수정의\n",
    "def sortBubble(ary):\n",
    "    n = len(ary)\n",
    "    for end in range(n-1, 0, -1): # 거꾸로 돔 제일 마지막 인덱스부터 앞까지\n",
    "        for cur in range(0, end):\n",
    "            if ary[cur] > ary[cur + 1]:\n",
    "                ary[cur], ary[cur+1] = ary[cur+1], ary[cur] # swap 기능을 포함\n",
    "\n",
    "        print(f'정렬 중 => {ary}')\n",
    "\n",
    "    return ary\n",
    "# dataAry = [188, 162, 168, 120, 50, 150, 177, 105]\n",
    "dataAry = [random.randint(50, 1000) for _ in range(random.randint(8, 20))]\n",
    "\n",
    "print(f'정렬 전 => {dataAry}')\n",
    "dataAry = sortBubble(dataAry)\n",
    "print(f'정렬 후 => {dataAry}')\n"
   ]
  },
  {
   "cell_type": "markdown",
   "metadata": {},
   "source": [
    "##### 버블 정렬 중\n",
    "- 데이터가 거의 정렬이 되고, 한 두개가 데이터가 튀었을 때 개선방법\n",
    "- 한 사이클을 마쳤을 때 모두 정렬이 되면 더이상 반복문을 처리하지않고 탈출"
   ]
  },
  {
   "cell_type": "code",
   "execution_count": 40,
   "metadata": {},
   "outputs": [
    {
     "name": "stdout",
     "output_type": "stream",
     "text": [
      "정렬 전 -> [50, 105, 120, 188, 150, 162, 168, 177]\n",
      "정렬 중 => [50, 105, 120, 150, 162, 168, 177, 188]\n",
      "정렬 중 => [50, 105, 120, 150, 162, 168, 177, 188]\n",
      "정렬 전 -> [50, 105, 120, 150, 162, 168, 177, 188]\n"
     ]
    }
   ],
   "source": [
    "## 버블소트 개선함수\n",
    "def sortBubbleA(ary):\n",
    "    n = len(ary)\n",
    "\n",
    "    for end in range(n-1, 0 , -1):\n",
    "        changeYN =False # <- 요것이 개선방법 Point!\n",
    "        for cur in range(0, end):\n",
    "            if ary[cur] > ary[cur + 1]:\n",
    "                ary[cur], ary[cur+1] = ary[cur+1], ary[cur]\n",
    "                changeYN = True # 값이 바꼈다!\n",
    "\n",
    "        print(f'정렬 중 => {ary}')\n",
    "\n",
    "        if not changeYN: # <- 요것이 개선방법 Point!\n",
    "            break\n",
    "    return ary\n",
    "\n",
    "dataAry = [50, 105, 120, 188, 150, 162, 168, 177]\n",
    "\n",
    "print(f'정렬 전 -> {dataAry}')\n",
    "dataAry = sortBubbleA(dataAry)\n",
    "print(f'정렬 전 -> {dataAry}')\n"
   ]
  },
  {
   "cell_type": "markdown",
   "metadata": {},
   "source": [
    "- 다른 정렬은 데이터가 거의 정렬이 다 되어 있어도 횟수만큼 동작함 $O(n^2)$\n",
    "- 버블정렬은 데이터가 거의 정렬 되어있으면 반복횟수를 줄일 수 $O(n)$"
   ]
  },
  {
   "cell_type": "markdown",
   "metadata": {},
   "source": [
    "#### 퀵 정렬"
   ]
  }
 ],
 "metadata": {
  "kernelspec": {
   "display_name": "Python 3",
   "language": "python",
   "name": "python3"
  },
  "language_info": {
   "codemirror_mode": {
    "name": "ipython",
    "version": 3
   },
   "file_extension": ".py",
   "mimetype": "text/x-python",
   "name": "python",
   "nbconvert_exporter": "python",
   "pygments_lexer": "ipython3",
   "version": "3.11.9"
  }
 },
 "nbformat": 4,
 "nbformat_minor": 2
}
